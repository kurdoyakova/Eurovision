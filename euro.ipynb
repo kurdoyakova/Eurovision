{
 "cells": [
  {
   "cell_type": "code",
   "execution_count": 291,
   "metadata": {},
   "outputs": [],
   "source": [
    "import requests\n",
    "from bs4 import BeautifulSoup\n",
    "import requests\n",
    "import pandas as pd\n",
    "import json\n",
    "from datetime import datetime, date, timedelta\n",
    "import seaborn as sns\n",
    "import matplotlib.pyplot as plt\n",
    "\n",
    "\n",
    "# headers = {\"User-Agent\": \"Mozilla/5.0 (X11; Linux x86_64) AppleWebKit/537.36 \\\n",
    "# (KHTML, like Gecko) Chrome/96.0.4664.45 Safari/537.36\",\n",
    "# \"Accept-language\":\"ru,en;q=0.9,ru-RU;q=0.8,en-US;q=0.7\",\n",
    "# \"Accept\":\"text/html,application/xhtml+xml,application/xml;q=0.9,image/avif,image/webp,image/apng,\\\n",
    "# */*;q=0.8,application/signed-exchange;v=b3;q=0.9\"}\n",
    "\n",
    "headers = {\n",
    "    'authority': 'ms-mt--api-web.spain.advgo.net',\n",
    "    'sec-ch-ua': '\" Not;A Brand\";v=\"99\", \"Google Chrome\";v=\"91\", \"Chromium\";v=\"91\"',\n",
    "    'accept': 'application/json, text/plain, */*',\n",
    "    'x-adevinta-channel': 'web-desktop',\n",
    "    'x-schibsted-tenant': 'coches',\n",
    "    'sec-ch-ua-mobile': '?0',\n",
    "    'user-agent': 'Mozilla/5.0 (X11; Linux x86_64) AppleWebKit/537.36 (KHTML, like Gecko) Chrome/91.0.4472.114 Safari/537.36',\n",
    "    'content-type': 'application/json;charset=UTF-8',\n",
    "    'origin': 'https://www.coches.net',\n",
    "    'sec-fetch-site': 'cross-site',\n",
    "    'sec-fetch-mode': 'cors',\n",
    "    'sec-fetch-dest': 'empty',\n",
    "    'referer': 'https://www.coches.net/',\n",
    "    'accept-language': 'en-US,en;q=0.9,es;q=0.8',\n",
    "}"
   ]
  },
  {
   "cell_type": "code",
   "execution_count": 292,
   "metadata": {},
   "outputs": [],
   "source": [
    "def resnonse_url(url):\n",
    "    \"\"\"receiving a response from the server\"\"\"\n",
    "    response = requests.get(url, headers=headers)\n",
    "    if response.status_code == 200:\n",
    "        print('-- works --')\n",
    "    elif response.status_code == 404:\n",
    "        print('-- not found --')\n",
    "    else:\n",
    "        print(\"-- something is wrong --\", response.status_code)\n",
    "    soup = BeautifulSoup(response.content, \"html.parser\")\n",
    "    return soup"
   ]
  },
  {
   "cell_type": "code",
   "execution_count": 450,
   "metadata": {},
   "outputs": [
    {
     "name": "stdout",
     "output_type": "stream",
     "text": [
      "-- works --\n"
     ]
    }
   ],
   "source": [
    "url = 'https://eurovisionworld.com/odds/eurovision'\n",
    "soup = resnonse_url(url)"
   ]
  },
  {
   "cell_type": "code",
   "execution_count": 451,
   "metadata": {},
   "outputs": [],
   "source": [
    "def write_to_file(place, percent, country, artist, song, video, current_date):\n",
    "    with open('euro.txt', 'a') as file:\n",
    "                file.write(str(place) + ',' + str(percent) + ',' +\n",
    "                           str(country) + ',' + str(artist) + ',' +\n",
    "                           str(song) + ',' + str(video) + ',' + str(current_date) + '\\n')"
   ]
  },
  {
   "cell_type": "code",
   "execution_count": 452,
   "metadata": {},
   "outputs": [],
   "source": [
    "scrolls = soup.find_all(class_='odds_div scroll_x')\n",
    "name_of_comp = scrolls[0].contents[0].contents[0]\n",
    "odds = scrolls[0].contents[0].contents[1]"
   ]
  },
  {
   "cell_type": "code",
   "execution_count": 464,
   "metadata": {},
   "outputs": [],
   "source": [
    "current_date = date.today()\n",
    "datas = pd.read_csv('euro.txt', sep=',')"
   ]
  },
  {
   "cell_type": "code",
   "execution_count": 465,
   "metadata": {},
   "outputs": [],
   "source": [
    "def parse(odds, place, current_date):\n",
    "        artist = 'none'\n",
    "        song = 'none'\n",
    "        video = 'none'\n",
    "        \n",
    "        line = odds.contents[i].contents[2].contents[0]\n",
    "        \n",
    "        percent = odds.contents[i].contents[3].text\n",
    "        percent = percent[:len(percent)-1]\n",
    "        if percent[0] == '<':\n",
    "            percent = 0.5\n",
    "            \n",
    "        # Для стран с названием больше 2 слов и объявленной песней\n",
    "        if len(line) > 4:\n",
    "            country = line.contents[4].text\n",
    "            art = line.contents[6].text.split()\n",
    "            artist = []\n",
    "            let = 0\n",
    "            while art[let] != '-':\n",
    "                artist.append(art[let])\n",
    "                let += 1\n",
    "            artist = ' '.join(map(str, artist))\n",
    "            song = ' '.join(map(str, art[let + 1:]))\n",
    "            video = 'realise'\n",
    "                \n",
    "        # Для стран с названием больше 2 слов без песни, или для обычных стран с песней\n",
    "        elif len(line) == 4:\n",
    "            if line.contents[3].text in ['United Kingdom', 'Czech Republic'] :\n",
    "                country = line.contents[3].text\n",
    "            else:\n",
    "                art = line.contents[3].text.split()\n",
    "                artist = []\n",
    "                let = 0\n",
    "                while art[let] != '-':\n",
    "                    artist.append(art[let])\n",
    "                    let += 1\n",
    "                artist = ' '.join(map(str, artist))\n",
    "                song = ' '.join(map(str, art[let + 1:]))\n",
    "                country = line.contents[2][1:len(line.contents[2])-1]\n",
    "                video = 'realise'\n",
    "        \n",
    "        # Для стран с известным артистом, но без песни\n",
    "        elif len(line) == 3:\n",
    "            art = line.contents[2].text.split()\n",
    "            if art[0] == 'artist:' or art[0] == 'artists:':\n",
    "                artist = ' '.join(map(str, art[1:]))\n",
    "            elif art[0] == 'song:':\n",
    "                song = ' '.join(map(str, art[1:]))\n",
    "            country = line.contents[1][1:len(line.contents[1])-1]\n",
    "        \n",
    "        # Для стран, у которых еще ничего не известно\n",
    "        else:\n",
    "            country = line.contents[1][1:]\n",
    "            \n",
    "        write_to_file(place, percent, country, artist, song, video, current_date)   "
   ]
  },
  {
   "cell_type": "code",
   "execution_count": 466,
   "metadata": {},
   "outputs": [
    {
     "name": "stdout",
     "output_type": "stream",
     "text": [
      "-- done --\n"
     ]
    }
   ],
   "source": [
    "if str(current_date) == datas['date'][len(datas['date'])-1]:\n",
    "    print('-- already done --')\n",
    "else:\n",
    "    for i in range(len(odds)):\n",
    "        parse(odds, i+1, current_date)\n",
    "    print('-- done --')"
   ]
  },
  {
   "cell_type": "code",
   "execution_count": 468,
   "metadata": {},
   "outputs": [],
   "source": [
    "datas = pd.read_csv('euro.txt', sep=',')\n",
    "# print(datas.head())"
   ]
  },
  {
   "cell_type": "code",
   "execution_count": 469,
   "metadata": {},
   "outputs": [],
   "source": [
    "def plot_by_date(datas):\n",
    "    sns.set_theme(style=\"whitegrid\")\n",
    "\n",
    "    fig, ax = plt.subplots(figsize=(20, 23))\n",
    "\n",
    "    cols = []\n",
    "    labels = []\n",
    "    colors = ['#89f13f','#f13f89', '#3f89f1']\n",
    "    for index, row in datas.iterrows():\n",
    "        if row[5] == 'realise':\n",
    "            cols.append(colors[0])\n",
    "            labels.append('with song')\n",
    "        elif row[3] != 'none':\n",
    "            cols.append(colors[2])\n",
    "            labels.append('with artist')\n",
    "        else:\n",
    "            cols.append(colors[1])\n",
    "            labels.append('empty')\n",
    "\n",
    "#     sns.set(font_scale=1)\n",
    "    ax = sns.barplot(x=[100 for _ in range(len(datas))], y=\"country\", data=datas,\n",
    "                dodge=False, palette=cols, alpha = 0.1)\n",
    "\n",
    "    ax = sns.barplot(x=\"percent\", y=\"country\", data=datas, hue=labels,\n",
    "                palette=colors, dodge=False)\n",
    "\n",
    "    for index, row in datas.iterrows():\n",
    "        ax.text(row.percent +0.2, row.place-1+0.15, row.percent, color='black', fontsize=12)\n",
    "\n",
    "    max_lim = datas.percent.iloc[0]\n",
    "    ax.legend(ncol=1, loc=\"lower right\", frameon=True)\n",
    "    plt.xlabel(\"Winning chance, %\",fontsize=20)\n",
    "    plt.ylabel(\"Country\",fontsize=20)\n",
    "    plt.tick_params(axis='both', labelsize=17)\n",
    "    ax.set(xlim=(0, max_lim+10))\n",
    "    plt.title(datas['date'].iloc[0], fontsize=20)\n",
    "#     sns.despine(left=True, bottom=True)\n",
    "    plt.savefig(str(datas['date'].iloc[0]) + '.png', dpi=100)\n",
    "    plt.close()"
   ]
  },
  {
   "cell_type": "code",
   "execution_count": 470,
   "metadata": {},
   "outputs": [],
   "source": [
    "for dates in datas['date'].unique():\n",
    "    plot_by_date(datas[datas['date'] == dates])"
   ]
  },
  {
   "cell_type": "code",
   "execution_count": 210,
   "metadata": {},
   "outputs": [],
   "source": [
    "# import pandas_alive\n",
    "\n",
    "# datas[\"date\"] = pd.to_datetime(datas[\"date\"])\n",
    "# data1 = datas.pivot(index='date', columns=\"country\", values=\"percent\").fillna(0)\n",
    "# data1.plot_animated(\"euro_odds.gif\", title='Odds', dpi=250)"
   ]
  },
  {
   "cell_type": "code",
   "execution_count": 471,
   "metadata": {},
   "outputs": [],
   "source": [
    "import bar_chart_race as bcr\n",
    "\n",
    "def one_day(datas, iters):\n",
    "    cols = []\n",
    "    labels = []\n",
    "    trying = {}\n",
    "    colors = ['#89f13f','#f13f89', '#3f89f1']\n",
    "    for index, row in datas.iterrows():\n",
    "        if row[5] == 'realise':\n",
    "            trying[row[2]] = colors[0]\n",
    "            cols.append(colors[0])\n",
    "            labels.append('with song')\n",
    "        elif row[3] != 'none':\n",
    "            trying[row[2]] = colors[2]\n",
    "            cols.append(colors[2])\n",
    "            labels.append('with artist')\n",
    "        else:\n",
    "            trying[row[2]] = colors[1]\n",
    "            cols.append(colors[1])\n",
    "            labels.append('empty')\n",
    "    new = dict(sorted(trying.items()))\n",
    "\n",
    "    datas[\"date\"] = pd.to_datetime(datas[\"date\"])\n",
    "    data1 = datas.pivot(index='date', columns=\"country\", values=\"percent\").fillna(0)\n",
    "    bcr.bar_chart_race(df = data1, \n",
    "        filename = 'odds' + str(iters) + '.gif', \n",
    "#         filter_column_colors = True, \n",
    "        period_label={'x': .99, 'y':.05, 'ha': 'right', 'color': 'black'},\n",
    "        bar_label_size = 7, tick_label_size = 7,\n",
    "        bar_size = 0.8,\n",
    "        steps_per_period = 20,\n",
    "        dpi = 100,\n",
    "    #     bar_kwargs={'alpha':0.4, 'ec': 'black', 'lw': 2.5, },\n",
    "        cmap = list(new.values()),\n",
    "#         cmap = ['#89f13f','#3f89f1', '#3f89f1', '#3f89f1'],\n",
    "#         n_bars = 37,\n",
    "        figsize=(10, 7),\n",
    "        title = \"Odds\")"
   ]
  },
  {
   "cell_type": "code",
   "execution_count": 472,
   "metadata": {},
   "outputs": [
    {
     "name": "stderr",
     "output_type": "stream",
     "text": [
      "/home/kurdoyakova/.local/lib/python3.8/site-packages/bar_chart_race/_make_chart.py:286: UserWarning: FixedFormatter should only be used together with FixedLocator\n",
      "  ax.set_yticklabels(self.df_values.columns)\n",
      "/home/kurdoyakova/.local/lib/python3.8/site-packages/bar_chart_race/_make_chart.py:287: UserWarning: FixedFormatter should only be used together with FixedLocator\n",
      "  ax.set_xticklabels([max_val] * len(ax.get_xticks()))\n",
      "/home/kurdoyakova/.local/lib/python3.8/site-packages/bar_chart_race/_make_chart.py:286: UserWarning: FixedFormatter should only be used together with FixedLocator\n",
      "  ax.set_yticklabels(self.df_values.columns)\n",
      "/home/kurdoyakova/.local/lib/python3.8/site-packages/bar_chart_race/_make_chart.py:287: UserWarning: FixedFormatter should only be used together with FixedLocator\n",
      "  ax.set_xticklabels([max_val] * len(ax.get_xticks()))\n",
      "/home/kurdoyakova/.local/lib/python3.8/site-packages/bar_chart_race/_make_chart.py:286: UserWarning: FixedFormatter should only be used together with FixedLocator\n",
      "  ax.set_yticklabels(self.df_values.columns)\n",
      "/home/kurdoyakova/.local/lib/python3.8/site-packages/bar_chart_race/_make_chart.py:287: UserWarning: FixedFormatter should only be used together with FixedLocator\n",
      "  ax.set_xticklabels([max_val] * len(ax.get_xticks()))\n",
      "/home/kurdoyakova/.local/lib/python3.8/site-packages/bar_chart_race/_make_chart.py:286: UserWarning: FixedFormatter should only be used together with FixedLocator\n",
      "  ax.set_yticklabels(self.df_values.columns)\n",
      "/home/kurdoyakova/.local/lib/python3.8/site-packages/bar_chart_race/_make_chart.py:287: UserWarning: FixedFormatter should only be used together with FixedLocator\n",
      "  ax.set_xticklabels([max_val] * len(ax.get_xticks()))\n",
      "/home/kurdoyakova/.local/lib/python3.8/site-packages/bar_chart_race/_make_chart.py:286: UserWarning: FixedFormatter should only be used together with FixedLocator\n",
      "  ax.set_yticklabels(self.df_values.columns)\n",
      "/home/kurdoyakova/.local/lib/python3.8/site-packages/bar_chart_race/_make_chart.py:287: UserWarning: FixedFormatter should only be used together with FixedLocator\n",
      "  ax.set_xticklabels([max_val] * len(ax.get_xticks()))\n",
      "/home/kurdoyakova/.local/lib/python3.8/site-packages/bar_chart_race/_make_chart.py:286: UserWarning: FixedFormatter should only be used together with FixedLocator\n",
      "  ax.set_yticklabels(self.df_values.columns)\n",
      "/home/kurdoyakova/.local/lib/python3.8/site-packages/bar_chart_race/_make_chart.py:287: UserWarning: FixedFormatter should only be used together with FixedLocator\n",
      "  ax.set_xticklabels([max_val] * len(ax.get_xticks()))\n",
      "/home/kurdoyakova/.local/lib/python3.8/site-packages/bar_chart_race/_make_chart.py:286: UserWarning: FixedFormatter should only be used together with FixedLocator\n",
      "  ax.set_yticklabels(self.df_values.columns)\n",
      "/home/kurdoyakova/.local/lib/python3.8/site-packages/bar_chart_race/_make_chart.py:287: UserWarning: FixedFormatter should only be used together with FixedLocator\n",
      "  ax.set_xticklabels([max_val] * len(ax.get_xticks()))\n",
      "/home/kurdoyakova/.local/lib/python3.8/site-packages/bar_chart_race/_make_chart.py:286: UserWarning: FixedFormatter should only be used together with FixedLocator\n",
      "  ax.set_yticklabels(self.df_values.columns)\n",
      "/home/kurdoyakova/.local/lib/python3.8/site-packages/bar_chart_race/_make_chart.py:287: UserWarning: FixedFormatter should only be used together with FixedLocator\n",
      "  ax.set_xticklabels([max_val] * len(ax.get_xticks()))\n",
      "/home/kurdoyakova/.local/lib/python3.8/site-packages/bar_chart_race/_make_chart.py:286: UserWarning: FixedFormatter should only be used together with FixedLocator\n",
      "  ax.set_yticklabels(self.df_values.columns)\n",
      "/home/kurdoyakova/.local/lib/python3.8/site-packages/bar_chart_race/_make_chart.py:287: UserWarning: FixedFormatter should only be used together with FixedLocator\n",
      "  ax.set_xticklabels([max_val] * len(ax.get_xticks()))\n",
      "/home/kurdoyakova/.local/lib/python3.8/site-packages/bar_chart_race/_make_chart.py:286: UserWarning: FixedFormatter should only be used together with FixedLocator\n",
      "  ax.set_yticklabels(self.df_values.columns)\n",
      "/home/kurdoyakova/.local/lib/python3.8/site-packages/bar_chart_race/_make_chart.py:287: UserWarning: FixedFormatter should only be used together with FixedLocator\n",
      "  ax.set_xticklabels([max_val] * len(ax.get_xticks()))\n"
     ]
    }
   ],
   "source": [
    "day_row = 0\n",
    "iters = 0\n",
    "while day_row < len(datas):\n",
    "#     datas2 = datas.loc[day_row:day_row+73].copy()\n",
    "    one_day(datas.loc[day_row:day_row+36].copy(), iters)\n",
    "    iters += 1\n",
    "    one_day(datas.loc[day_row:day_row+73].copy(), iters)\n",
    "    day_row += 37\n",
    "    iters += 1\n"
   ]
  },
  {
   "cell_type": "code",
   "execution_count": 108,
   "metadata": {
    "jupyter": {
     "source_hidden": true
    }
   },
   "outputs": [],
   "source": [
    "# from matplotlib import animation\n",
    "\n",
    "# fig=plt.figure()\n",
    "\n",
    "# for n, dates in enumerate(datas['date'].unique()):\n",
    "#     datas2 = datas[datas['date'] == dates]\n",
    "# #     n=100 #Number of frames\n",
    "#     cols = []\n",
    "#     labels = []\n",
    "#     colors = ['#89f13f','#f13f89', '#3f89f1']\n",
    "#     for index, row in datas2.iterrows():\n",
    "#         if row[5] == 'realise':\n",
    "#             cols.append(colors[0])\n",
    "#             labels.append('with song')\n",
    "#         elif row[3] != 'none':\n",
    "#             cols.append(colors[2])\n",
    "#             labels.append('with artist')\n",
    "#         else:\n",
    "#             cols.append(colors[1])\n",
    "#             labels.append('empty')\n",
    "            \n",
    "#     x = datas2['percent']\n",
    "#     y = datas2['country']\n",
    "#     barcollection = plt.barh(y, x, color = cols)\n",
    "#     plt.barh(y, x, color = cols)\n",
    "#     plt.gca().invert_yaxis()\n",
    "#     plt.show()\n",
    "\n",
    "# #     print(barcollection)\n",
    "# def animate(i):\n",
    "#     y=datas2['country']\n",
    "#     for i, b in enumerate(barcollection):\n",
    "#         b.set_height(y[i])\n",
    "\n",
    "# anim=animation.FuncAnimation(fig,\n",
    "#                              animate,\n",
    "#                              repeat=False,\n",
    "#                              blit=False,\n",
    "#                              frames=datas['date'],\n",
    "#                              interval=30)\n",
    "\n",
    "# # anim.save('mymovie.mp4',writer=animation.FFMpegWriter(fps=10))\n",
    "# # anim.save('first.gif',writer='imagemagick',fps=30)\n",
    "# anim.save('first')\n",
    "\n",
    "# for i in range(len(barcollection)):\n",
    "#     barcollection[i].set_height(y[i])"
   ]
  },
  {
   "cell_type": "code",
   "execution_count": null,
   "metadata": {},
   "outputs": [],
   "source": []
  }
 ],
 "metadata": {
  "kernelspec": {
   "display_name": "Python 3",
   "language": "python",
   "name": "python3"
  },
  "language_info": {
   "codemirror_mode": {
    "name": "ipython",
    "version": 3
   },
   "file_extension": ".py",
   "mimetype": "text/x-python",
   "name": "python",
   "nbconvert_exporter": "python",
   "pygments_lexer": "ipython3",
   "version": "3.8.8"
  }
 },
 "nbformat": 4,
 "nbformat_minor": 4
}
